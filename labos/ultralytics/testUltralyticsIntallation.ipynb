{
 "cells": [
  {
   "cell_type": "code",
   "execution_count": 1,
   "metadata": {},
   "outputs": [],
   "source": [
    "from ultralytics import YOLO"
   ]
  },
  {
   "cell_type": "code",
   "execution_count": 2,
   "metadata": {},
   "outputs": [
    {
     "name": "stderr",
     "output_type": "stream",
     "text": [
      "\n",
      "                   from  n    params  module                                       arguments                     \n",
      "  0                  -1  1       464  ultralytics.nn.modules.conv.Conv             [3, 16, 3, 2]                 \n",
      "  1                  -1  1      4672  ultralytics.nn.modules.conv.Conv             [16, 32, 3, 2]                \n",
      "  2                  -1  1      7360  ultralytics.nn.modules.block.C2f             [32, 32, 1, True]             \n",
      "  3                  -1  1     18560  ultralytics.nn.modules.conv.Conv             [32, 64, 3, 2]                \n",
      "  4                  -1  2     49664  ultralytics.nn.modules.block.C2f             [64, 64, 2, True]             \n",
      "  5                  -1  1     73984  ultralytics.nn.modules.conv.Conv             [64, 128, 3, 2]               \n",
      "  6                  -1  2    197632  ultralytics.nn.modules.block.C2f             [128, 128, 2, True]           \n",
      "  7                  -1  1    295424  ultralytics.nn.modules.conv.Conv             [128, 256, 3, 2]              \n",
      "  8                  -1  1    460288  ultralytics.nn.modules.block.C2f             [256, 256, 1, True]           \n",
      "  9                  -1  1    164608  ultralytics.nn.modules.block.SPPF            [256, 256, 5]                 \n",
      " 10                  -1  1         0  torch.nn.modules.upsampling.Upsample         [None, 2, 'nearest']          \n",
      " 11             [-1, 6]  1         0  ultralytics.nn.modules.conv.Concat           [1]                           \n",
      " 12                  -1  1    148224  ultralytics.nn.modules.block.C2f             [384, 128, 1]                 \n",
      " 13                  -1  1         0  torch.nn.modules.upsampling.Upsample         [None, 2, 'nearest']          \n",
      " 14             [-1, 4]  1         0  ultralytics.nn.modules.conv.Concat           [1]                           \n",
      " 15                  -1  1     37248  ultralytics.nn.modules.block.C2f             [192, 64, 1]                  \n",
      " 16                  -1  1     36992  ultralytics.nn.modules.conv.Conv             [64, 64, 3, 2]                \n",
      " 17            [-1, 12]  1         0  ultralytics.nn.modules.conv.Concat           [1]                           \n",
      " 18                  -1  1    123648  ultralytics.nn.modules.block.C2f             [192, 128, 1]                 \n",
      " 19                  -1  1    147712  ultralytics.nn.modules.conv.Conv             [128, 128, 3, 2]              \n",
      " 20             [-1, 9]  1         0  ultralytics.nn.modules.conv.Concat           [1]                           \n",
      " 21                  -1  1    493056  ultralytics.nn.modules.block.C2f             [384, 256, 1]                 \n",
      " 22        [15, 18, 21]  1    897664  ultralytics.nn.modules.head.Detect           [80, [64, 128, 256]]          \n",
      "YOLOv8n summary: 225 layers, 3157200 parameters, 3157184 gradients\n",
      "\n"
     ]
    }
   ],
   "source": [
    "# Create a new YOLO model from scratch\n",
    "model = YOLO(\"yolov8n.yaml\")"
   ]
  },
  {
   "cell_type": "code",
   "execution_count": 3,
   "metadata": {},
   "outputs": [
    {
     "name": "stderr",
     "output_type": "stream",
     "text": [
      "Downloading https://github.com/ultralytics/assets/releases/download/v0.0.0/yolov8n.pt to yolov8n.pt...\n",
      "100%|██████████| 6.23M/6.23M [00:00<00:00, 13.9MB/s]\n"
     ]
    }
   ],
   "source": [
    "# Load a pretrained YOLO model (recommended for training)\n",
    "model = YOLO(\"yolov8n.pt\")"
   ]
  },
  {
   "cell_type": "code",
   "execution_count": 4,
   "metadata": {},
   "outputs": [
    {
     "name": "stderr",
     "output_type": "stream",
     "text": [
      "Ultralytics YOLOv8.0.124 🚀 Python-3.11.3 torch-2.0.1+cu117 CUDA:0 (NVIDIA GeForce RTX 2060, 5918MiB)\n",
      "\u001b[34m\u001b[1myolo/engine/trainer: \u001b[0mtask=detect, mode=train, model=yolov8n.pt, data=coco128.yaml, epochs=3, patience=50, batch=16, imgsz=640, save=True, save_period=-1, cache=False, device=None, workers=8, project=None, name=None, exist_ok=False, pretrained=True, optimizer=auto, verbose=True, seed=0, deterministic=True, single_cls=False, rect=False, cos_lr=False, close_mosaic=0, resume=False, amp=True, fraction=1.0, profile=False, overlap_mask=True, mask_ratio=4, dropout=0.0, val=True, split=val, save_json=False, save_hybrid=False, conf=None, iou=0.7, max_det=300, half=False, dnn=False, plots=True, source=None, show=False, save_txt=False, save_conf=False, save_crop=False, show_labels=True, show_conf=True, vid_stride=1, line_width=None, visualize=False, augment=False, agnostic_nms=False, classes=None, retina_masks=False, boxes=True, format=torchscript, keras=False, optimize=False, int8=False, dynamic=False, simplify=False, opset=None, workspace=4, nms=False, lr0=0.01, lrf=0.01, momentum=0.937, weight_decay=0.0005, warmup_epochs=3.0, warmup_momentum=0.8, warmup_bias_lr=0.1, box=7.5, cls=0.5, dfl=1.5, pose=12.0, kobj=1.0, label_smoothing=0.0, nbs=64, hsv_h=0.015, hsv_s=0.7, hsv_v=0.4, degrees=0.0, translate=0.1, scale=0.5, shear=0.0, perspective=0.0, flipud=0.0, fliplr=0.5, mosaic=1.0, mixup=0.0, copy_paste=0.0, cfg=None, v5loader=False, tracker=botsort.yaml, save_dir=/home/payetquentin/Documents/workspace/briefs/S6_yolo/runs/detect/train\n",
      "\n",
      "                   from  n    params  module                                       arguments                     \n",
      "  0                  -1  1       464  ultralytics.nn.modules.conv.Conv             [3, 16, 3, 2]                 \n",
      "  1                  -1  1      4672  ultralytics.nn.modules.conv.Conv             [16, 32, 3, 2]                \n",
      "  2                  -1  1      7360  ultralytics.nn.modules.block.C2f             [32, 32, 1, True]             \n",
      "  3                  -1  1     18560  ultralytics.nn.modules.conv.Conv             [32, 64, 3, 2]                \n",
      "  4                  -1  2     49664  ultralytics.nn.modules.block.C2f             [64, 64, 2, True]             \n",
      "  5                  -1  1     73984  ultralytics.nn.modules.conv.Conv             [64, 128, 3, 2]               \n",
      "  6                  -1  2    197632  ultralytics.nn.modules.block.C2f             [128, 128, 2, True]           \n",
      "  7                  -1  1    295424  ultralytics.nn.modules.conv.Conv             [128, 256, 3, 2]              \n",
      "  8                  -1  1    460288  ultralytics.nn.modules.block.C2f             [256, 256, 1, True]           \n",
      "  9                  -1  1    164608  ultralytics.nn.modules.block.SPPF            [256, 256, 5]                 \n",
      " 10                  -1  1         0  torch.nn.modules.upsampling.Upsample         [None, 2, 'nearest']          \n",
      " 11             [-1, 6]  1         0  ultralytics.nn.modules.conv.Concat           [1]                           \n",
      " 12                  -1  1    148224  ultralytics.nn.modules.block.C2f             [384, 128, 1]                 \n",
      " 13                  -1  1         0  torch.nn.modules.upsampling.Upsample         [None, 2, 'nearest']          \n",
      " 14             [-1, 4]  1         0  ultralytics.nn.modules.conv.Concat           [1]                           \n",
      " 15                  -1  1     37248  ultralytics.nn.modules.block.C2f             [192, 64, 1]                  \n",
      " 16                  -1  1     36992  ultralytics.nn.modules.conv.Conv             [64, 64, 3, 2]                \n",
      " 17            [-1, 12]  1         0  ultralytics.nn.modules.conv.Concat           [1]                           \n",
      " 18                  -1  1    123648  ultralytics.nn.modules.block.C2f             [192, 128, 1]                 \n",
      " 19                  -1  1    147712  ultralytics.nn.modules.conv.Conv             [128, 128, 3, 2]              \n",
      " 20             [-1, 9]  1         0  ultralytics.nn.modules.conv.Concat           [1]                           \n",
      " 21                  -1  1    493056  ultralytics.nn.modules.block.C2f             [384, 256, 1]                 \n",
      " 22        [15, 18, 21]  1    897664  ultralytics.nn.modules.head.Detect           [80, [64, 128, 256]]          \n",
      "Model summary: 225 layers, 3157200 parameters, 3157184 gradients\n",
      "\n",
      "Transferred 355/355 items from pretrained weights\n",
      "\u001b[34m\u001b[1mAMP: \u001b[0mrunning Automatic Mixed Precision (AMP) checks with YOLOv8n...\n",
      "\u001b[34m\u001b[1mAMP: \u001b[0mchecks passed ✅\n",
      "\u001b[34m\u001b[1mtrain: \u001b[0mScanning /home/payetquentin/Documents/workspace/briefs/datasets/coco128/labels/train2017.cache... 126 images, 2 backgrounds, 0 corrupt: 100%|██████████| 128/128 [00:00<?, ?it/s]\n",
      "\u001b[34m\u001b[1mval: \u001b[0mScanning /home/payetquentin/Documents/workspace/briefs/datasets/coco128/labels/train2017.cache... 126 images, 2 backgrounds, 0 corrupt: 100%|██████████| 128/128 [00:00<?, ?it/s]\n",
      "Plotting labels to /home/payetquentin/Documents/workspace/briefs/S6_yolo/runs/detect/train/labels.jpg... \n",
      "\u001b[34m\u001b[1moptimizer:\u001b[0m AdamW(lr=0.000119, momentum=0.9) with parameter groups 57 weight(decay=0.0), 64 weight(decay=0.0005), 63 bias(decay=0.0)\n",
      "Image sizes 640 train, 640 val\n",
      "Using 8 dataloader workers\n",
      "Logging results to \u001b[1m/home/payetquentin/Documents/workspace/briefs/S6_yolo/runs/detect/train\u001b[0m\n",
      "Starting training for 3 epochs...\n",
      "\n",
      "      Epoch    GPU_mem   box_loss   cls_loss   dfl_loss  Instances       Size\n",
      "        1/3      2.53G      1.226      1.615      1.274        178        640: 100%|██████████| 8/8 [00:03<00:00,  2.39it/s]\n",
      "                 Class     Images  Instances      Box(P          R      mAP50  mAP50-95): 100%|██████████| 4/4 [00:01<00:00,  3.37it/s]\n",
      "                   all        128        929       0.65      0.532      0.617      0.459\n",
      "\n",
      "      Epoch    GPU_mem   box_loss   cls_loss   dfl_loss  Instances       Size\n",
      "        2/3      2.65G      1.222      1.507      1.266        231        640: 100%|██████████| 8/8 [00:01<00:00,  5.38it/s]\n",
      "                 Class     Images  Instances      Box(P          R      mAP50  mAP50-95): 100%|██████████| 4/4 [00:00<00:00,  4.14it/s]\n",
      "                   all        128        929      0.673       0.54      0.627      0.467\n",
      "\n",
      "      Epoch    GPU_mem   box_loss   cls_loss   dfl_loss  Instances       Size\n",
      "        3/3      2.59G      1.207      1.442       1.22        178        640: 100%|██████████| 8/8 [00:01<00:00,  5.58it/s]\n",
      "                 Class     Images  Instances      Box(P          R      mAP50  mAP50-95): 100%|██████████| 4/4 [00:04<00:00,  1.16s/it]\n",
      "                   all        128        929      0.676      0.538       0.63      0.468\n",
      "\n",
      "3 epochs completed in 0.005 hours.\n",
      "Optimizer stripped from /home/payetquentin/Documents/workspace/briefs/S6_yolo/runs/detect/train/weights/last.pt, 6.5MB\n",
      "Optimizer stripped from /home/payetquentin/Documents/workspace/briefs/S6_yolo/runs/detect/train/weights/best.pt, 6.5MB\n",
      "\n",
      "Validating /home/payetquentin/Documents/workspace/briefs/S6_yolo/runs/detect/train/weights/best.pt...\n",
      "Ultralytics YOLOv8.0.124 🚀 Python-3.11.3 torch-2.0.1+cu117 CUDA:0 (NVIDIA GeForce RTX 2060, 5918MiB)\n",
      "Model summary (fused): 168 layers, 3151904 parameters, 0 gradients\n",
      "                 Class     Images  Instances      Box(P          R      mAP50  mAP50-95): 100%|██████████| 4/4 [00:04<00:00,  1.13s/it]\n",
      "                   all        128        929       0.68      0.535       0.63      0.468\n",
      "                person        128        254      0.809       0.65      0.769      0.543\n",
      "               bicycle        128          6      0.579      0.333      0.332      0.283\n",
      "                   car        128         46      0.915      0.217      0.284      0.178\n",
      "            motorcycle        128          5      0.683      0.867      0.938      0.742\n",
      "              airplane        128          6      0.824      0.788      0.903      0.681\n",
      "                   bus        128          7      0.756      0.714      0.736      0.662\n",
      "                 train        128          3      0.562      0.667       0.83      0.731\n",
      "                 truck        128         12          1      0.334      0.497      0.317\n",
      "                  boat        128          6      0.311      0.167      0.392      0.252\n",
      "         traffic light        128         14      0.685      0.158      0.202      0.139\n",
      "             stop sign        128          2          1      0.998      0.995      0.711\n",
      "                 bench        128          9      0.831      0.548       0.64      0.403\n",
      "                  bird        128         16       0.92      0.724      0.891      0.537\n",
      "                   cat        128          4      0.876          1      0.995      0.835\n",
      "                   dog        128          9      0.709      0.778      0.811      0.627\n",
      "                 horse        128          2      0.561          1      0.995       0.51\n",
      "              elephant        128         17      0.861      0.765      0.883      0.656\n",
      "                  bear        128          1      0.645          1      0.995      0.995\n",
      "                 zebra        128          4      0.862          1      0.995      0.965\n",
      "               giraffe        128          9      0.898      0.983      0.973      0.714\n",
      "              backpack        128          6      0.622      0.333      0.393      0.235\n",
      "              umbrella        128         18      0.732        0.5      0.679      0.461\n",
      "               handbag        128         19      0.258     0.0271      0.187     0.0973\n",
      "                   tie        128          7      0.809      0.611      0.677      0.465\n",
      "              suitcase        128          4      0.654      0.953      0.828      0.596\n",
      "               frisbee        128          5      0.595        0.8      0.759      0.663\n",
      "                  skis        128          1      0.561          1      0.995      0.497\n",
      "             snowboard        128          7       0.67      0.714      0.756      0.462\n",
      "           sports ball        128          6      0.696      0.393      0.503       0.29\n",
      "                  kite        128         10      0.827      0.481      0.582      0.202\n",
      "          baseball bat        128          4      0.511      0.267      0.414      0.174\n",
      "        baseball glove        128          7      0.685      0.429      0.429      0.295\n",
      "            skateboard        128          5      0.795        0.6        0.6       0.44\n",
      "         tennis racket        128          7      0.738      0.408      0.529      0.394\n",
      "                bottle        128         18      0.517      0.357      0.366      0.218\n",
      "            wine glass        128         16      0.628      0.562      0.581      0.349\n",
      "                   cup        128         36       0.63      0.278      0.394      0.276\n",
      "                  fork        128          6      0.612      0.167      0.247      0.203\n",
      "                 knife        128         16      0.663        0.5      0.603      0.349\n",
      "                 spoon        128         22      0.564      0.182      0.341      0.185\n",
      "                  bowl        128         28      0.679      0.571       0.61      0.495\n",
      "                banana        128          1          0          0      0.166     0.0475\n",
      "              sandwich        128          2      0.438        0.5      0.497      0.497\n",
      "                orange        128          4          1      0.315      0.995      0.668\n",
      "              broccoli        128         11        0.5      0.182      0.247      0.222\n",
      "                carrot        128         24      0.843      0.458      0.662      0.414\n",
      "               hot dog        128          2      0.363        0.5      0.745      0.721\n",
      "                 pizza        128          5      0.706          1      0.995       0.86\n",
      "                 donut        128         14      0.648          1       0.94      0.853\n",
      "                  cake        128          4      0.689          1      0.995       0.88\n",
      "                 chair        128         35      0.556      0.514      0.469      0.263\n",
      "                 couch        128          6      0.737      0.473      0.672      0.497\n",
      "          potted plant        128         14      0.747      0.643      0.729      0.484\n",
      "                   bed        128          3       0.78      0.667      0.806      0.636\n",
      "          dining table        128         13      0.504      0.615      0.507      0.415\n",
      "                toilet        128          2          1      0.858      0.995      0.896\n",
      "                    tv        128          2      0.394        0.5      0.695      0.656\n",
      "                laptop        128          3          1          0      0.641        0.5\n",
      "                 mouse        128          2          1          0     0.0488    0.00487\n",
      "                remote        128          8      0.862        0.5      0.588      0.516\n",
      "            cell phone        128          8          0          0     0.0677     0.0459\n",
      "             microwave        128          3      0.693      0.667      0.863      0.719\n",
      "                  oven        128          5      0.499        0.4      0.338      0.269\n",
      "                  sink        128          6      0.375      0.167      0.229      0.158\n",
      "          refrigerator        128          5      0.711        0.4      0.662      0.537\n",
      "                  book        128         29      0.603      0.105      0.336      0.186\n",
      "                 clock        128          9      0.799      0.778      0.893      0.739\n",
      "                  vase        128          2       0.45          1      0.828      0.745\n",
      "              scissors        128          1          1          0      0.249     0.0791\n",
      "            teddy bear        128         21      0.892      0.333      0.632      0.414\n",
      "            toothbrush        128          5      0.724        0.6      0.716      0.494\n",
      "Speed: 0.9ms preprocess, 2.1ms inference, 0.0ms loss, 7.6ms postprocess per image\n",
      "Results saved to \u001b[1m/home/payetquentin/Documents/workspace/briefs/S6_yolo/runs/detect/train\u001b[0m\n"
     ]
    }
   ],
   "source": [
    "# Train the model using the 'coco128.yaml' dataset for 3 epochs\n",
    "results = model.train(data=\"coco128.yaml\", epochs=3)"
   ]
  },
  {
   "cell_type": "code",
   "execution_count": 5,
   "metadata": {},
   "outputs": [
    {
     "name": "stderr",
     "output_type": "stream",
     "text": [
      "Ultralytics YOLOv8.0.124 🚀 Python-3.11.3 torch-2.0.1+cu117 CUDA:0 (NVIDIA GeForce RTX 2060, 5918MiB)\n",
      "Model summary (fused): 168 layers, 3151904 parameters, 0 gradients\n",
      "\u001b[34m\u001b[1mval: \u001b[0mScanning /home/payetquentin/Documents/workspace/briefs/datasets/coco128/labels/train2017.cache... 126 images, 2 backgrounds, 0 corrupt: 100%|██████████| 128/128 [00:00<?, ?it/s]\n",
      "                 Class     Images  Instances      Box(P          R      mAP50  mAP50-95): 100%|██████████| 8/8 [00:04<00:00,  1.62it/s]\n",
      "                   all        128        929      0.659       0.55      0.627      0.467\n",
      "                person        128        254      0.805      0.681      0.774      0.545\n",
      "               bicycle        128          6      0.521      0.333      0.327      0.271\n",
      "                   car        128         46      0.791      0.217      0.285      0.178\n",
      "            motorcycle        128          5      0.692      0.907      0.898      0.718\n",
      "              airplane        128          6      0.828      0.804      0.903      0.681\n",
      "                   bus        128          7      0.678      0.714      0.735      0.661\n",
      "                 train        128          3      0.549      0.667       0.83      0.731\n",
      "                 truck        128         12          1      0.373      0.495      0.296\n",
      "                  boat        128          6      0.269      0.167       0.35      0.229\n",
      "         traffic light        128         14      0.707      0.178      0.202      0.139\n",
      "             stop sign        128          2      0.914          1      0.995      0.713\n",
      "                 bench        128          9      0.844      0.605       0.64      0.403\n",
      "                  bird        128         16      0.917       0.75       0.88       0.52\n",
      "                   cat        128          4      0.864          1      0.995      0.835\n",
      "                   dog        128          9      0.649      0.778      0.811      0.622\n",
      "                 horse        128          2      0.533          1      0.995       0.51\n",
      "              elephant        128         17      0.848      0.765       0.88      0.654\n",
      "                  bear        128          1      0.627          1      0.995      0.995\n",
      "                 zebra        128          4      0.854          1      0.995      0.965\n",
      "               giraffe        128          9      0.742      0.961      0.943      0.732\n",
      "              backpack        128          6      0.607      0.333      0.393      0.238\n",
      "              umbrella        128         18      0.709      0.556      0.678      0.461\n",
      "               handbag        128         19      0.573     0.0757       0.18     0.0952\n",
      "                   tie        128          7      0.828      0.691      0.678      0.465\n",
      "              suitcase        128          4      0.637          1      0.828      0.596\n",
      "               frisbee        128          5      0.559        0.8      0.759      0.663\n",
      "                  skis        128          1      0.465          1      0.995      0.497\n",
      "             snowboard        128          7      0.655      0.714      0.759      0.461\n",
      "           sports ball        128          6      0.706      0.413      0.502       0.29\n",
      "                  kite        128         10      0.801        0.5      0.591      0.213\n",
      "          baseball bat        128          4       0.58       0.25      0.347      0.198\n",
      "        baseball glove        128          7      0.637      0.429      0.429      0.316\n",
      "            skateboard        128          5      0.867        0.6        0.6       0.44\n",
      "         tennis racket        128          7      0.747      0.423      0.528      0.365\n",
      "                bottle        128         18      0.443      0.389      0.348      0.213\n",
      "            wine glass        128         16      0.578      0.562      0.553      0.346\n",
      "                   cup        128         36      0.569      0.278      0.401      0.286\n",
      "                  fork        128          6       0.59      0.167      0.222      0.194\n",
      "                 knife        128         16      0.563        0.5      0.589       0.36\n",
      "                 spoon        128         22      0.631      0.182      0.331      0.189\n",
      "                  bowl        128         28       0.69      0.643      0.656      0.498\n",
      "                banana        128          1          0          0     0.0995     0.0389\n",
      "              sandwich        128          2      0.164      0.246      0.497      0.497\n",
      "                orange        128          4          1      0.353      0.995      0.669\n",
      "              broccoli        128         11      0.501      0.182      0.252      0.205\n",
      "                carrot        128         24      0.727      0.554      0.658      0.421\n",
      "               hot dog        128          2      0.646      0.937      0.828      0.796\n",
      "                 pizza        128          5      0.734          1      0.995      0.843\n",
      "                 donut        128         14      0.639          1       0.94      0.853\n",
      "                  cake        128          4      0.611          1      0.945      0.845\n",
      "                 chair        128         35      0.479      0.543      0.471      0.261\n",
      "                 couch        128          6      0.629        0.5      0.738      0.569\n",
      "          potted plant        128         14      0.689      0.643      0.727      0.486\n",
      "                   bed        128          3      0.743      0.667      0.913      0.661\n",
      "          dining table        128         13       0.46      0.615      0.506        0.4\n",
      "                toilet        128          2          1      0.877      0.995      0.946\n",
      "                    tv        128          2       0.37        0.5      0.695      0.656\n",
      "                laptop        128          3          1          0      0.605      0.484\n",
      "                 mouse        128          2          1          0     0.0696    0.00696\n",
      "                remote        128          8      0.843        0.5      0.608      0.522\n",
      "            cell phone        128          8          0          0     0.0685     0.0463\n",
      "             microwave        128          3      0.632      0.667      0.753      0.634\n",
      "                  oven        128          5      0.438        0.4      0.339       0.27\n",
      "                  sink        128          6      0.377      0.167       0.18      0.131\n",
      "          refrigerator        128          5      0.696        0.4      0.654       0.52\n",
      "                  book        128         29      0.631       0.12      0.339      0.192\n",
      "                 clock        128          9       0.78      0.788      0.895      0.738\n",
      "                  vase        128          2      0.408          1      0.828      0.745\n",
      "              scissors        128          1          1          0      0.249     0.0791\n",
      "            teddy bear        128         21      0.882      0.359      0.633      0.413\n",
      "            toothbrush        128          5      0.631        0.6       0.75      0.475\n",
      "Speed: 0.8ms preprocess, 13.8ms inference, 0.0ms loss, 1.1ms postprocess per image\n",
      "Results saved to \u001b[1m/home/payetquentin/Documents/workspace/briefs/S6_yolo/runs/detect/val\u001b[0m\n"
     ]
    }
   ],
   "source": [
    "# Evaluate the model's performance on the validation set\n",
    "results = model.val()"
   ]
  },
  {
   "cell_type": "code",
   "execution_count": 6,
   "metadata": {},
   "outputs": [
    {
     "name": "stderr",
     "output_type": "stream",
     "text": [
      "\n",
      "Downloading https://ultralytics.com/images/bus.jpg to bus.jpg...\n",
      "100%|██████████| 476k/476k [00:00<00:00, 2.65MB/s]\n",
      "image 1/1 /home/payetquentin/Documents/workspace/briefs/S6_yolo/labos/ultralytics/bus.jpg: 640x480 4 persons, 1 bus, 1 stop sign, 6.2ms\n",
      "Speed: 2.7ms preprocess, 6.2ms inference, 1.5ms postprocess per image at shape (1, 3, 640, 480)\n"
     ]
    }
   ],
   "source": [
    "# Perform object detection on an image using the model\n",
    "results = model(\"https://ultralytics.com/images/bus.jpg\")"
   ]
  },
  {
   "cell_type": "code",
   "execution_count": 7,
   "metadata": {},
   "outputs": [
    {
     "name": "stderr",
     "output_type": "stream",
     "text": [
      "Ultralytics YOLOv8.0.124 🚀 Python-3.11.3 torch-2.0.1+cu117 CPU\n",
      "\n",
      "\u001b[34m\u001b[1mPyTorch:\u001b[0m starting from /home/payetquentin/Documents/workspace/briefs/S6_yolo/runs/detect/train/weights/best.pt with input shape (1, 3, 640, 640) BCHW and output shape(s) (1, 84, 8400) (6.2 MB)\n",
      "\n",
      "\u001b[34m\u001b[1mONNX:\u001b[0m starting export with onnx 1.14.0 opset 17...\n",
      "\u001b[34m\u001b[1mONNX:\u001b[0m export success ✅ 0.5s, saved as /home/payetquentin/Documents/workspace/briefs/S6_yolo/runs/detect/train/weights/best.onnx (12.2 MB)\n",
      "\n",
      "Export complete (0.7s)\n",
      "Results saved to \u001b[1m/home/payetquentin/Documents/workspace/briefs/S6_yolo/runs/detect/train/weights\u001b[0m\n",
      "Predict:         yolo predict task=detect model=/home/payetquentin/Documents/workspace/briefs/S6_yolo/runs/detect/train/weights/best.onnx imgsz=640 \n",
      "Validate:        yolo val task=detect model=/home/payetquentin/Documents/workspace/briefs/S6_yolo/runs/detect/train/weights/best.onnx imgsz=640 data=/home/payetquentin/Documents/workspace/briefs/S6_yolo/.venv/lib/python3.11/site-packages/ultralytics/datasets/coco128.yaml \n",
      "Visualize:       https://netron.app\n"
     ]
    },
    {
     "name": "stdout",
     "output_type": "stream",
     "text": [
      "============= Diagnostic Run torch.onnx.export version 2.0.1+cu117 =============\n",
      "verbose: False, log level: Level.ERROR\n",
      "======================= 0 NONE 0 NOTE 0 WARNING 0 ERROR ========================\n",
      "\n"
     ]
    }
   ],
   "source": [
    "# Export the model to ONNX format\n",
    "success = model.export(format=\"onnx\")"
   ]
  }
 ],
 "metadata": {
  "kernelspec": {
   "display_name": ".venv",
   "language": "python",
   "name": "python3"
  },
  "language_info": {
   "codemirror_mode": {
    "name": "ipython",
    "version": 3
   },
   "file_extension": ".py",
   "mimetype": "text/x-python",
   "name": "python",
   "nbconvert_exporter": "python",
   "pygments_lexer": "ipython3",
   "version": "3.11.3"
  },
  "orig_nbformat": 4
 },
 "nbformat": 4,
 "nbformat_minor": 2
}
